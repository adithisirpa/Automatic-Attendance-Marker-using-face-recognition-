{
  "nbformat": 4,
  "nbformat_minor": 0,
  "metadata": {
    "colab": {
      "name": "Automatic Attendance Marker Using Face Recognition.ipynb",
      "provenance": [],
      "collapsed_sections": [],
      "authorship_tag": "ABX9TyPUcB1lSaJ4xBf1RKeKtlgr",
      "include_colab_link": true
    },
    "kernelspec": {
      "name": "python3",
      "display_name": "Python 3"
    },
    "language_info": {
      "name": "python"
    },
    "accelerator": "GPU"
  },
  "cells": [
    {
      "cell_type": "markdown",
      "metadata": {
        "id": "view-in-github",
        "colab_type": "text"
      },
      "source": [
        "<a href=\"https://colab.research.google.com/github/adithisirpa/Automatic-Attendance-Marker-using-face-recognition-/blob/main/Automatic_Attendance_Marker_Using_Face_Recognition.ipynb\" target=\"_parent\"><img src=\"https://colab.research.google.com/assets/colab-badge.svg\" alt=\"Open In Colab\"/></a>"
      ]
    },
    {
      "cell_type": "code",
      "metadata": {
        "colab": {
          "base_uri": "https://localhost:8080/"
        },
        "id": "o7AlqcQkTCYk",
        "outputId": "57b32f0d-77ef-4de4-9b98-19d841b323d8"
      },
      "source": [
        "! pip install face_recognition \n",
        "! pip install Xlsxwriter"
      ],
      "execution_count": null,
      "outputs": [
        {
          "output_type": "stream",
          "text": [
            "Collecting face_recognition\n",
            "  Downloading https://files.pythonhosted.org/packages/1e/95/f6c9330f54ab07bfa032bf3715c12455a381083125d8880c43cbe76bb3d0/face_recognition-1.3.0-py2.py3-none-any.whl\n",
            "Requirement already satisfied: Pillow in /usr/local/lib/python3.7/dist-packages (from face_recognition) (7.1.2)\n",
            "Collecting face-recognition-models>=0.3.0\n",
            "\u001b[?25l  Downloading https://files.pythonhosted.org/packages/cf/3b/4fd8c534f6c0d1b80ce0973d01331525538045084c73c153ee6df20224cf/face_recognition_models-0.3.0.tar.gz (100.1MB)\n",
            "\u001b[K     |████████████████████████████████| 100.2MB 42kB/s \n",
            "\u001b[?25hRequirement already satisfied: Click>=6.0 in /usr/local/lib/python3.7/dist-packages (from face_recognition) (7.1.2)\n",
            "Requirement already satisfied: numpy in /usr/local/lib/python3.7/dist-packages (from face_recognition) (1.19.5)\n",
            "Requirement already satisfied: dlib>=19.7 in /usr/local/lib/python3.7/dist-packages (from face_recognition) (19.18.0)\n",
            "Building wheels for collected packages: face-recognition-models\n",
            "  Building wheel for face-recognition-models (setup.py) ... \u001b[?25l\u001b[?25hdone\n",
            "  Created wheel for face-recognition-models: filename=face_recognition_models-0.3.0-py2.py3-none-any.whl size=100566184 sha256=76b78e10f36a29d778f3663c0c4faa9cf29661766589a2a7e62e7d239974f014\n",
            "  Stored in directory: /root/.cache/pip/wheels/d2/99/18/59c6c8f01e39810415c0e63f5bede7d83dfb0ffc039865465f\n",
            "Successfully built face-recognition-models\n",
            "Installing collected packages: face-recognition-models, face-recognition\n",
            "Successfully installed face-recognition-1.3.0 face-recognition-models-0.3.0\n",
            "Collecting Xlsxwriter\n",
            "\u001b[?25l  Downloading https://files.pythonhosted.org/packages/2c/ce/74fd8d638a5b82ea0c6f08a5978f741c2655a38c3d6e82f73a0f084377e6/XlsxWriter-1.4.3-py2.py3-none-any.whl (149kB)\n",
            "\u001b[K     |████████████████████████████████| 153kB 8.5MB/s \n",
            "\u001b[?25hInstalling collected packages: Xlsxwriter\n",
            "Successfully installed Xlsxwriter-1.4.3\n"
          ],
          "name": "stdout"
        }
      ]
    },
    {
      "cell_type": "code",
      "metadata": {
        "colab": {
          "base_uri": "https://localhost:8080/"
        },
        "id": "HHaFtWrVTZ0N",
        "outputId": "c4b6407a-5424-4ed3-d60e-40864fc9d58f"
      },
      "source": [
        "from google.colab import drive\n",
        "drive.mount('/content/drive')"
      ],
      "execution_count": null,
      "outputs": [
        {
          "output_type": "stream",
          "text": [
            "Mounted at /content/drive\n"
          ],
          "name": "stdout"
        }
      ]
    },
    {
      "cell_type": "code",
      "metadata": {
        "id": "Q8wgIcBpT1qa"
      },
      "source": [
        "from google.colab.patches import cv2_imshow \n",
        "import cv2\n",
        "import os\n",
        "import face_recognition\n",
        "import imutils "
      ],
      "execution_count": null,
      "outputs": []
    },
    {
      "cell_type": "code",
      "metadata": {
        "id": "PLjaSE5tU_A1"
      },
      "source": [
        "# this reads the image and resizes it \n",
        "def reads_img (path):\n",
        "  image = cv2.imread(path)\n",
        "  ratio = image.shape[0] /500.0\n",
        "  actual_img = image.copy()\n",
        "  image = imutils.resize(image, height = 500)\n",
        "  return image"
      ],
      "execution_count": null,
      "outputs": []
    },
    {
      "cell_type": "code",
      "metadata": {
        "id": "qOP3Mi_NVHmd"
      },
      "source": [
        "# this creates the encodings for registered student directory and the attended students directory and compares their faces \n",
        "registeredppl_encodings = []\n",
        "registeredppl_names = []\n",
        "registeredppl_dir = '/content/drive/MyDrive/registeredppl'\n",
        "\n",
        "present = []\n",
        "for file in os.listdir(registeredppl_dir):\n",
        "  img = reads_img(registeredppl_dir + '/' + file)\n",
        "  img_encodings = face_recognition.face_encodings(img)[0]\n",
        "  registeredppl_encodings.append(img_encodings)\n",
        "  registeredppl_names.append(file.split('.')[0])\n",
        "\n",
        "ppl_dir = '/content/drive/MyDrive/ppl'\n",
        "for file in os.listdir(ppl_dir):\n",
        "  #print (\"the choosen file is \",file)\n",
        "  img = reads_img(ppl_dir + '/' + file)\n",
        "  img_encodings = face_recognition.face_encodings(img)[0]\n",
        "  comparedresults = face_recognition.compare_faces(registeredppl_encodings,img_encodings)\n",
        "  for a in range(len(comparedresults)):\n",
        "    if comparedresults[a]:\n",
        "      present.append(registeredppl_names[a])\n",
        "#print(present)"
      ],
      "execution_count": null,
      "outputs": []
    },
    {
      "cell_type": "code",
      "metadata": {
        "id": "FjcB-7oTgRGm"
      },
      "source": [
        "# this creates absent list\n",
        "ppl_dir = '/content/drive/MyDrive/ppl'\n",
        "ppl_names =[]\n",
        "absent = []\n",
        "for file in os.listdir(ppl_dir):\n",
        "  img_ppl = reads_img(ppl_dir + '/' + file)\n",
        "  ppl_names.append(file.split('.')[0])\n",
        "\n",
        "for a in range(len(ppl_names)):\n",
        "  if ppl_names[a] not in present:\n",
        "    absent.append(ppl_names[a])\n",
        "#print(absent)"
      ],
      "execution_count": null,
      "outputs": []
    },
    {
      "cell_type": "code",
      "metadata": {
        "id": "pHTD3NCWVIUZ"
      },
      "source": [
        "# this to mark the attendance for the above conclusions \n",
        "import xlsxwriter\n",
        "from xlrd import open_workbook\n",
        "from xlwt import Workbook\n",
        "\n",
        "workbook = xlsxwriter.Workbook(\"Attendance Sheet.xlsx\")\n",
        "worksheet = workbook.add_worksheet()\n",
        "\n",
        "bold = workbook.add_format({'bold': True})\n",
        "\n",
        "worksheet.set_column(0, 10, 25)\n",
        "\n",
        "row = 0\n",
        "column = 0\n",
        "worksheet.write(row,column,'Names of Students',bold)\n",
        "worksheet.write(row,column+1,'Attendance Status',bold)\n",
        "\n",
        "row = row+1\n",
        "\n",
        "#this prints the student list and student status\n",
        "for i in range(len(present)):\n",
        "  worksheet.write(row,column,present[i])\n",
        "  worksheet.write(row,column+1,'Present')\n",
        "  row = row+1\n",
        "\n",
        "for i in range(len(absent)):\n",
        "  worksheet.write(row,column,absent[i])\n",
        "  worksheet.write(row,column+1,'Absent')\n",
        "  row = row+1\n",
        "\n",
        "workbook.close()\n"
      ],
      "execution_count": null,
      "outputs": []
    }
  ]
}